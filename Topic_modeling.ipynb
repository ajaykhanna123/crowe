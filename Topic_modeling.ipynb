{
 "cells": [
  {
   "cell_type": "code",
   "execution_count": null,
   "metadata": {
    "id": "3ckk3TOxoMzf"
   },
   "outputs": [],
   "source": [
    "# pip install gensim"
   ]
  },
  {
   "cell_type": "code",
   "execution_count": 1,
   "metadata": {
    "colab": {
     "base_uri": "https://localhost:8080/"
    },
    "id": "s0VM04gqoRS8",
    "outputId": "182baecc-0123-43c2-84c9-11a1a40a2c93"
   },
   "outputs": [
    {
     "name": "stdout",
     "output_type": "stream",
     "text": [
      "[nltk_data] Downloading package stopwords to /root/nltk_data...\n",
      "[nltk_data]   Unzipping corpora/stopwords.zip.\n",
      "[nltk_data] Downloading package averaged_perceptron_tagger to\n",
      "[nltk_data]     /root/nltk_data...\n",
      "[nltk_data]   Unzipping taggers/averaged_perceptron_tagger.zip.\n",
      "[nltk_data] Downloading package wordnet to /root/nltk_data...\n",
      "[nltk_data]   Unzipping corpora/wordnet.zip.\n",
      "[nltk_data] Downloading package punkt to /root/nltk_data...\n",
      "[nltk_data]   Unzipping tokenizers/punkt.zip.\n",
      "[nltk_data] Downloading package punkt to /root/nltk_data...\n",
      "[nltk_data]   Package punkt is already up-to-date!\n"
     ]
    }
   ],
   "source": [
    "import pandas as pd\n",
    "import numpy as np\n",
    "%reload_ext autoreload\n",
    "%autoreload 2\n",
    "%matplotlib inline\n",
    "import os\n",
    "os.environ[\"CUDA_DEVICE_ORDER\"]=\"PCI_BUS_ID\";\n",
    "os.environ[\"CUDA_VISIBLE_DEVICES\"]=\"0\";\n",
    "import nltk\n",
    "nltk.download('stopwords')\n",
    "nltk.download('averaged_perceptron_tagger')\n",
    "nltk.download('wordnet')\n",
    "from sklearn.metrics import confusion_matrix,classification_report\n",
    "import nltk\n",
    "nltk.download('punkt')\n",
    "from nltk import word_tokenize\n",
    "from nltk.corpus import stopwords\n",
    "import string\n",
    "\n",
    "nltk.download('punkt')\n",
    "from nltk import word_tokenize\n",
    "from nltk import pos_tag\n",
    "from nltk.corpus import wordnet\n",
    "from nltk.stem import WordNetLemmatizer\n",
    "import re"
   ]
  },
  {
   "cell_type": "code",
   "execution_count": 3,
   "metadata": {
    "id": "DRcROHAwQxZH"
   },
   "outputs": [],
   "source": [
    "# i took a random data for performing topic modelling on it ..to show the sample of work that i am doing at UNited health group\n",
    "df=pd.read_csv('topic_data.csv')"
   ]
  },
  {
   "cell_type": "code",
   "execution_count": 4,
   "metadata": {
    "id": "O5dhreWRRBJp"
   },
   "outputs": [],
   "source": [
    "possible_labels = df.CATEGORY_ID.unique()\n",
    "\n",
    "label_dict = {}\n",
    "for index, possible_label in enumerate(possible_labels):\n",
    "    label_dict[possible_label] = index\n",
    "label_dict\n",
    "df['label'] = df.CATEGORY_ID.replace(label_dict)"
   ]
  },
  {
   "cell_type": "code",
   "execution_count": 5,
   "metadata": {
    "id": "1DeVQ5lNREl4"
   },
   "outputs": [],
   "source": [
    "categories=df['CATEGORY_ID'].unique()"
   ]
  },
  {
   "cell_type": "code",
   "execution_count": 6,
   "metadata": {
    "id": "2Hm-235lRGXm"
   },
   "outputs": [],
   "source": [
    "model_name='distilbert-base-uncased'"
   ]
  },
  {
   "cell_type": "code",
   "execution_count": 7,
   "metadata": {
    "colab": {
     "base_uri": "https://localhost:8080/"
    },
    "id": "mRRundQaRIE_",
    "outputId": "04e6d2d8-4838-4881-ad96-91e62db44726"
   },
   "outputs": [
    {
     "data": {
      "text/plain": [
       "[('CUTTING TOOLS', 5000),\n",
       " ('CAPITAL ASSEMBLY', 2000),\n",
       " ('CHEMICALS', 2000),\n",
       " ('LOGISTICS SERVICE', 1000)]"
      ]
     },
     "execution_count": 7,
     "metadata": {},
     "output_type": "execute_result"
    }
   ],
   "source": [
    "categories=pd.unique(df['CATEGORY_ID'])\n",
    "groups_freq={}\n",
    "for i in df.index:\n",
    "  grp=df['CATEGORY_ID'][i]\n",
    "  groups_freq[grp]=groups_freq.get(grp,0)+1\n",
    "groups_freq=sorted(groups_freq.items(),key=lambda kv:(kv[1]),reverse=True)\n",
    "groups_freq\n",
    "# calculating the frequency of groups"
   ]
  },
  {
   "cell_type": "code",
   "execution_count": 8,
   "metadata": {
    "id": "nXHcEmKlRK-i"
   },
   "outputs": [],
   "source": [
    "# NLP text tokens\n",
    "def tokenize(text):\n",
    "    words=word_tokenize(text)\n",
    "    return words"
   ]
  },
  {
   "cell_type": "code",
   "execution_count": 9,
   "metadata": {
    "id": "VZrYCxhTRRCy"
   },
   "outputs": [],
   "source": [
    "# removing stopwords\n",
    "stop=stopwords.words('english')\n",
    "puncs=list(string.punctuation)\n",
    "stop=stop+puncs\n",
    "def remove_stops(words):\n",
    "    cleaned=[w for w in words if not w.lower() in stop]\n",
    "    return cleaned"
   ]
  },
  {
   "cell_type": "code",
   "execution_count": 10,
   "metadata": {
    "id": "C0MAUDIxRSwK"
   },
   "outputs": [],
   "source": [
    "# document parsing\n",
    "def pos_tg(cleaned):\n",
    "    pos=np.array(pos_tag(cleaned))\n",
    "    return pos\n",
    "\n",
    "def get_simple_pos(tag):\n",
    "    if tag.startswith('J'):\n",
    "        return wordnet.ADJ\n",
    "    elif tag.startswith('V'):\n",
    "        return wordnet.VERB\n",
    "    elif tag.startswith('N'):\n",
    "        return wordnet.NOUN\n",
    "    elif tag.startswith('R'):\n",
    "        return wordnet.ADV\n",
    "    else:\n",
    "        return wordnet.NOUN"
   ]
  },
  {
   "cell_type": "code",
   "execution_count": 11,
   "metadata": {
    "id": "DLKHRCGLRUlP"
   },
   "outputs": [],
   "source": [
    "# lemitizing\n",
    "lemmatizer=WordNetLemmatizer()\n",
    "\n",
    "def lemmatize(pos):\n",
    "    lemmatized=[]\n",
    "    for w in pos:\n",
    "        lemmatizedword=lemmatizer.lemmatize(w[0],get_simple_pos(w[1]))\n",
    "        lemmatized.append(lemmatizedword)\n",
    "    return lemmatized\n"
   ]
  },
  {
   "cell_type": "code",
   "execution_count": 12,
   "metadata": {
    "id": "FfnchxdLRWXL"
   },
   "outputs": [],
   "source": [
    "def preprocess(text):\n",
    "    words=tokenize(text)\n",
    "    cleaned=remove_stops(words)\n",
    "    pos=pos_tag(cleaned)\n",
    "    lemmatized=lemmatize(pos)\n",
    "    preprocessed=\" \".join(lemmatized)\n",
    "    return preprocessed"
   ]
  },
  {
   "cell_type": "code",
   "execution_count": 13,
   "metadata": {
    "id": "MMfKxPW6RYC_"
   },
   "outputs": [],
   "source": [
    "\n",
    "# data preprocessing step where some characters which are not required are removed \n",
    "# 1. special characters\n",
    "# 2. digits in this use case\n",
    "# 3. extra spaces\n",
    "# 4. some words like block are used in lot of sentences and is surrounded by other characters ..needed to be separated\n",
    "# 5 words less than  3 and greater than 20 add no meaning to data , so those are also removed\n",
    "worddic={}\n",
    "rows=[]\n",
    "for i in df.index:\n",
    "    row=df['ITEM_NAME'][i]\n",
    "    row=df['ITEM_NAME'][i].lower()\n",
    "    # row=re.sub(r'(\\S*)([0-9]+)(\\S*)',\" \",row)\n",
    "    # row=re.sub(r'[!@#$%`^&,.*)_(-+|}{\":?\\/<>]',\" \",row)\n",
    "    row=re.sub('[^A-Za-z0-9]+', ' ', row)\n",
    "    if row.count(' ')>(len(row)-row.count(' ')-2):\n",
    "    row=row.replace(' ','')\n",
    "    no_list=[]\n",
    "    for item in row:\n",
    "        if re.search('[a-zA-Z]',item):\n",
    "            no_list.append(item)\n",
    "        if re.search('\\d',item):\n",
    "            no_list.append(' ')\n",
    "            no_list.append(item)\n",
    "        row=''.join(no_list)\n",
    "      # row=re.sub(\"[A-Za-z]+\", lambda ele: \" \" + ele[0] + \" \", row)\n",
    "    row=re.sub(r'(\\s*)\\n(\\s*)',\" \",row)\n",
    "    row=re.sub(r'(\\s*)\\-(\\s*)',\" \",row)\n",
    "    row=re.sub(r'(\\s*)\\=(\\s*)',\" \",row)\n",
    "    row=re.sub(r'(\\s*)\\\\(\\s*)',\" \",row)\n",
    "    row=re.sub(r\"(\\s*)'(\\s*)\",\" \",row)\n",
    "    row=re.sub(r'block','block ',row)\n",
    "    # row=re.sub(r'')\n",
    "    tokens=row.split(\" \")\n",
    "    tokens=[t.lower() for t in tokens if len(t)>=1 and len(t)<20]\n",
    "    text=\" \".join(tokens)\n",
    "\n",
    "    row=preprocess(text)\n",
    "    tokens=row.split(\" \")\n",
    "    for j in tokens:\n",
    "    worddic[j]=worddic.get(j,0)+1\n",
    "    rows.append(row)"
   ]
  },
  {
   "cell_type": "code",
   "execution_count": 14,
   "metadata": {
    "id": "uEWhfz9wRaWE"
   },
   "outputs": [],
   "source": [
    "df['refined_text']=rows\n"
   ]
  },
  {
   "cell_type": "code",
   "execution_count": 15,
   "metadata": {
    "colab": {
     "base_uri": "https://localhost:8080/",
     "height": 204
    },
    "id": "eZg9DxCCReCf",
    "outputId": "ba7d1643-7bd5-4e15-aa72-2727442ee6d0"
   },
   "outputs": [
    {
     "data": {
      "text/html": [
       "<div>\n",
       "<style scoped>\n",
       "    .dataframe tbody tr th:only-of-type {\n",
       "        vertical-align: middle;\n",
       "    }\n",
       "\n",
       "    .dataframe tbody tr th {\n",
       "        vertical-align: top;\n",
       "    }\n",
       "\n",
       "    .dataframe thead th {\n",
       "        text-align: right;\n",
       "    }\n",
       "</style>\n",
       "<table border=\"1\" class=\"dataframe\">\n",
       "  <thead>\n",
       "    <tr style=\"text-align: right;\">\n",
       "      <th></th>\n",
       "      <th>Unnamed: 0</th>\n",
       "      <th>ITEM_NAME</th>\n",
       "      <th>CATEGORY_ID</th>\n",
       "      <th>label</th>\n",
       "      <th>refined_text</th>\n",
       "    </tr>\n",
       "  </thead>\n",
       "  <tbody>\n",
       "    <tr>\n",
       "      <th>2094</th>\n",
       "      <td>2094</td>\n",
       "      <td>.</td>\n",
       "      <td>CHEMICALS</td>\n",
       "      <td>1</td>\n",
       "      <td></td>\n",
       "    </tr>\n",
       "    <tr>\n",
       "      <th>4613</th>\n",
       "      <td>4613</td>\n",
       "      <td>.</td>\n",
       "      <td>CUTTING TOOLS</td>\n",
       "      <td>2</td>\n",
       "      <td></td>\n",
       "    </tr>\n",
       "    <tr>\n",
       "      <th>4692</th>\n",
       "      <td>4692</td>\n",
       "      <td>??????</td>\n",
       "      <td>CUTTING TOOLS</td>\n",
       "      <td>2</td>\n",
       "      <td></td>\n",
       "    </tr>\n",
       "    <tr>\n",
       "      <th>9118</th>\n",
       "      <td>9118</td>\n",
       "      <td>50CTCHMIRNS34MC115M1100</td>\n",
       "      <td>LOGISTICS SERVICE</td>\n",
       "      <td>3</td>\n",
       "      <td></td>\n",
       "    </tr>\n",
       "    <tr>\n",
       "      <th>9327</th>\n",
       "      <td>9327</td>\n",
       "      <td>AUGERGATHERINGHDM066H-D MA</td>\n",
       "      <td>LOGISTICS SERVICE</td>\n",
       "      <td>3</td>\n",
       "      <td></td>\n",
       "    </tr>\n",
       "  </tbody>\n",
       "</table>\n",
       "</div>"
      ],
      "text/plain": [
       "      Unnamed: 0                   ITEM_NAME  ... label  refined_text\n",
       "2094        2094                           .  ...     1              \n",
       "4613        4613                           .  ...     2              \n",
       "4692        4692                      ??????  ...     2              \n",
       "9118        9118     50CTCHMIRNS34MC115M1100  ...     3              \n",
       "9327        9327  AUGERGATHERINGHDM066H-D MA  ...     3              \n",
       "\n",
       "[5 rows x 5 columns]"
      ]
     },
     "execution_count": 15,
     "metadata": {},
     "output_type": "execute_result"
    }
   ],
   "source": [
    "# empty and null sentences are removed\n",
    "df[df['refined_text'].str.contains(r'^\\s*$', na=False)].head()"
   ]
  },
  {
   "cell_type": "code",
   "execution_count": 16,
   "metadata": {
    "id": "vimfPCv9RgZO"
   },
   "outputs": [],
   "source": [
    "df_new=df.drop(df[df['refined_text'].str.contains(r'^\\s*$', na=False)].index).copy()"
   ]
  },
  {
   "cell_type": "code",
   "execution_count": 17,
   "metadata": {
    "colab": {
     "base_uri": "https://localhost:8080/",
     "height": 306
    },
    "id": "L1xHoBGvRiL4",
    "outputId": "76e28ef9-f19e-4077-dbc7-419d0e582f6f"
   },
   "outputs": [
    {
     "data": {
      "text/html": [
       "<div>\n",
       "<style scoped>\n",
       "    .dataframe tbody tr th:only-of-type {\n",
       "        vertical-align: middle;\n",
       "    }\n",
       "\n",
       "    .dataframe tbody tr th {\n",
       "        vertical-align: top;\n",
       "    }\n",
       "\n",
       "    .dataframe thead th {\n",
       "        text-align: right;\n",
       "    }\n",
       "</style>\n",
       "<table border=\"1\" class=\"dataframe\">\n",
       "  <thead>\n",
       "    <tr style=\"text-align: right;\">\n",
       "      <th></th>\n",
       "      <th>Unnamed: 0</th>\n",
       "      <th>ITEM_NAME</th>\n",
       "      <th>CATEGORY_ID</th>\n",
       "      <th>label</th>\n",
       "      <th>refined_text</th>\n",
       "    </tr>\n",
       "  </thead>\n",
       "  <tbody>\n",
       "    <tr>\n",
       "      <th>0</th>\n",
       "      <td>0</td>\n",
       "      <td>CALIBRACION TRANSDUCER 75 nm</td>\n",
       "      <td>CAPITAL ASSEMBLY</td>\n",
       "      <td>0</td>\n",
       "      <td>calibracion transducer 75 nm</td>\n",
       "    </tr>\n",
       "    <tr>\n",
       "      <th>1</th>\n",
       "      <td>1</td>\n",
       "      <td>for pusher whskey</td>\n",
       "      <td>CAPITAL ASSEMBLY</td>\n",
       "      <td>0</td>\n",
       "      <td>pusher whskey</td>\n",
       "    </tr>\n",
       "    <tr>\n",
       "      <th>2</th>\n",
       "      <td>2</td>\n",
       "      <td>Stat 40B Press Head Cup to Carrier from Stati...</td>\n",
       "      <td>CAPITAL ASSEMBLY</td>\n",
       "      <td>0</td>\n",
       "      <td>stat 40b press head cup carrier station k2xx t...</td>\n",
       "    </tr>\n",
       "    <tr>\n",
       "      <th>3</th>\n",
       "      <td>3</td>\n",
       "      <td>TRANSD. Cable (4145097103) scrw</td>\n",
       "      <td>CAPITAL ASSEMBLY</td>\n",
       "      <td>0</td>\n",
       "      <td>transd cable 4145097103 scrw</td>\n",
       "    </tr>\n",
       "    <tr>\n",
       "      <th>4</th>\n",
       "      <td>4</td>\n",
       "      <td>ZT200 7,5BAR,13BAR60HZ NUMERO DE SERIE: AIF09...</td>\n",
       "      <td>CAPITAL ASSEMBLY</td>\n",
       "      <td>0</td>\n",
       "      <td>zt200 7 5bar 13bar60hz numero de serie aif0944...</td>\n",
       "    </tr>\n",
       "  </tbody>\n",
       "</table>\n",
       "</div>"
      ],
      "text/plain": [
       "   Unnamed: 0  ...                                       refined_text\n",
       "0           0  ...                       calibracion transducer 75 nm\n",
       "1           1  ...                                      pusher whskey\n",
       "2           2  ...  stat 40b press head cup carrier station k2xx t...\n",
       "3           3  ...                       transd cable 4145097103 scrw\n",
       "4           4  ...  zt200 7 5bar 13bar60hz numero de serie aif0944...\n",
       "\n",
       "[5 rows x 5 columns]"
      ]
     },
     "execution_count": 17,
     "metadata": {},
     "output_type": "execute_result"
    }
   ],
   "source": [
    "df_new.head()"
   ]
  },
  {
   "cell_type": "code",
   "execution_count": 69,
   "metadata": {
    "colab": {
     "base_uri": "https://localhost:8080/",
     "height": 181
    },
    "id": "-Bh1ZXXzRj1y",
    "outputId": "9c1b3949-845f-4f13-a62f-2f89b304ff5c"
   },
   "outputs": [
    {
     "ename": "AttributeError",
     "evalue": "ignored",
     "output_type": "error",
     "traceback": [
      "\u001b[0;31m---------------------------------------------------------------------------\u001b[0m",
      "\u001b[0;31mAttributeError\u001b[0m                            Traceback (most recent call last)",
      "\u001b[0;32m<ipython-input-69-5d5c735564e5>\u001b[0m in \u001b[0;36m<module>\u001b[0;34m()\u001b[0m\n\u001b[0;32m----> 1\u001b[0;31m \u001b[0mworddic\u001b[0m\u001b[0;34m=\u001b[0m\u001b[0msorted\u001b[0m\u001b[0;34m(\u001b[0m\u001b[0mworddic\u001b[0m\u001b[0;34m.\u001b[0m\u001b[0mitems\u001b[0m\u001b[0;34m(\u001b[0m\u001b[0;34m)\u001b[0m\u001b[0;34m,\u001b[0m \u001b[0mkey\u001b[0m \u001b[0;34m=\u001b[0m\u001b[0;32mlambda\u001b[0m \u001b[0mkv\u001b[0m\u001b[0;34m:\u001b[0m\u001b[0;34m(\u001b[0m\u001b[0mkv\u001b[0m\u001b[0;34m[\u001b[0m\u001b[0;36m1\u001b[0m\u001b[0;34m]\u001b[0m\u001b[0;34m,\u001b[0m \u001b[0mkv\u001b[0m\u001b[0;34m[\u001b[0m\u001b[0;36m0\u001b[0m\u001b[0;34m]\u001b[0m\u001b[0;34m)\u001b[0m\u001b[0;34m,\u001b[0m\u001b[0mreverse\u001b[0m\u001b[0;34m=\u001b[0m\u001b[0;32mTrue\u001b[0m\u001b[0;34m)\u001b[0m\u001b[0;34m\u001b[0m\u001b[0;34m\u001b[0m\u001b[0m\n\u001b[0m\u001b[1;32m      2\u001b[0m \u001b[0mworddic\u001b[0m\u001b[0;34m[\u001b[0m\u001b[0;36m0\u001b[0m\u001b[0;34m:\u001b[0m\u001b[0;36m5\u001b[0m\u001b[0;34m]\u001b[0m\u001b[0;34m\u001b[0m\u001b[0;34m\u001b[0m\u001b[0m\n",
      "\u001b[0;31mAttributeError\u001b[0m: 'list' object has no attribute 'items'"
     ]
    }
   ],
   "source": [
    "worddic=sorted(worddic.items(), key =lambda kv:(kv[1], kv[0]),reverse=True)\n",
    "worddic[0:5]"
   ]
  },
  {
   "cell_type": "code",
   "execution_count": 19,
   "metadata": {
    "colab": {
     "base_uri": "https://localhost:8080/"
    },
    "id": "h4L_TDgzRqth",
    "outputId": "e26ca196-05cd-49ba-a692-8c7a5384752b"
   },
   "outputs": [
    {
     "data": {
      "text/plain": [
       "15002"
      ]
     },
     "execution_count": 19,
     "metadata": {},
     "output_type": "execute_result"
    }
   ],
   "source": [
    "len(worddic)\n",
    "# total no of unique word count"
   ]
  },
  {
   "cell_type": "code",
   "execution_count": 20,
   "metadata": {
    "colab": {
     "base_uri": "https://localhost:8080/"
    },
    "id": "L2y9FoLERuNB",
    "outputId": "5c9855af-5b0f-41e0-c4d2-2a42fb571912"
   },
   "outputs": [
    {
     "name": "stdout",
     "output_type": "stream",
     "text": [
      "[nltk_data] Downloading package words to /root/nltk_data...\n",
      "[nltk_data]   Unzipping corpora/words.zip.\n"
     ]
    }
   ],
   "source": [
    "import nltk\n",
    "nltk.download('words')\n",
    "englishwords=nltk.corpus.words.words() \n",
    "englishdic_short={}\n",
    "nonenglishdic_short={}\n",
    "for i in worddic:\n",
    "    a=i[0]\n",
    "    if a in englishwords:\n",
    "        englishdic_short[a]=englishdic_short.get(a,0)+i[1]\n",
    "    else:\n",
    "        nonenglishdic_short[a]=nonenglishdic_short.get(a,0)+i[1]"
   ]
  },
  {
   "cell_type": "code",
   "execution_count": 21,
   "metadata": {
    "colab": {
     "base_uri": "https://localhost:8080/"
    },
    "id": "mfgeS9GcRz6H",
    "outputId": "b9e2e151-7b1b-448a-c85b-cffbde1b9b15"
   },
   "outputs": [
    {
     "name": "stdout",
     "output_type": "stream",
     "text": [
      "Number of english words: 2651\n",
      "Number of non-english words: 12351\n"
     ]
    }
   ],
   "source": [
    "# separating the non english and english words\n",
    "print(f\"Number of english words: {len(englishdic_short)}\")\n",
    "print(f\"Number of non-english words: {len(nonenglishdic_short)}\")"
   ]
  },
  {
   "cell_type": "code",
   "execution_count": 22,
   "metadata": {
    "colab": {
     "base_uri": "https://localhost:8080/",
     "height": 545
    },
    "id": "9oxRYDOUSJ6l",
    "outputId": "e328d369-b517-43c1-cf65-d592643d8baf"
   },
   "outputs": [
    {
     "data": {
      "image/png": "[encoded data removed]",
      "text/plain": [
       "<Figure size 432x288 with 1 Axes>"
      ]
     },
     "metadata": {
      "needs_background": "light"
     },
     "output_type": "display_data"
    },
    {
     "data": {
      "image/png": "[encoded data removed]",
      "text/plain": [
       "<Figure size 432x288 with 1 Axes>"
      ]
     },
     "metadata": {
      "needs_background": "light"
     },
     "output_type": "display_data"
    }
   ],
   "source": [
    "# Plotting the histogram for english words in short description\n",
    "import matplotlib.pyplot as plt\n",
    "plt.hist([ i[1] for i in englishdic_short.items()],bins=[0,10,50,100,250,500,1000]) \n",
    "plt.title('Number of english words (REFINED_TEXT) vs Frequency range')\n",
    "plt.show()\n",
    "plt.hist([ i[1] for i in englishdic_short.items()],bins=[1000,2500,5000,7500,10000,12500,15000,17500]) \n",
    "plt.title('Number of english words (REFINED_TEXT) vs Frequency range')\n",
    "plt.show()"
   ]
  },
  {
   "cell_type": "code",
   "execution_count": 23,
   "metadata": {
    "id": "ukQWdMttSNqJ"
   },
   "outputs": [],
   "source": [
    "sorted_englishdic_short=sorted(englishdic_short.items(), key =lambda kv:(kv[1], kv[0]),reverse=True)"
   ]
  },
  {
   "cell_type": "code",
   "execution_count": 24,
   "metadata": {
    "id": "oZ2WgNGQShIM"
   },
   "outputs": [],
   "source": [
    "sorted_nonenglishdic_short=sorted(nonenglishdic_short.items(), key =lambda kv:(kv[1], kv[0]),reverse=True)"
   ]
  },
  {
   "cell_type": "code",
   "execution_count": 25,
   "metadata": {
    "colab": {
     "base_uri": "https://localhost:8080/",
     "height": 204
    },
    "id": "bHFlZnZkSjl_",
    "outputId": "8e7fa300-09ae-43f9-817c-4c9e50878ccd"
   },
   "outputs": [
    {
     "data": {
      "text/html": [
       "<div>\n",
       "<style scoped>\n",
       "    .dataframe tbody tr th:only-of-type {\n",
       "        vertical-align: middle;\n",
       "    }\n",
       "\n",
       "    .dataframe tbody tr th {\n",
       "        vertical-align: top;\n",
       "    }\n",
       "\n",
       "    .dataframe thead th {\n",
       "        text-align: right;\n",
       "    }\n",
       "</style>\n",
       "<table border=\"1\" class=\"dataframe\">\n",
       "  <thead>\n",
       "    <tr style=\"text-align: right;\">\n",
       "      <th></th>\n",
       "      <th>word</th>\n",
       "      <th>count</th>\n",
       "    </tr>\n",
       "  </thead>\n",
       "  <tbody>\n",
       "    <tr>\n",
       "      <th>0</th>\n",
       "      <td>de</td>\n",
       "      <td>1547</td>\n",
       "    </tr>\n",
       "    <tr>\n",
       "      <th>1</th>\n",
       "      <td>tool</td>\n",
       "      <td>806</td>\n",
       "    </tr>\n",
       "    <tr>\n",
       "      <th>2</th>\n",
       "      <td>x</td>\n",
       "      <td>701</td>\n",
       "    </tr>\n",
       "    <tr>\n",
       "      <th>3</th>\n",
       "      <td>insert</td>\n",
       "      <td>623</td>\n",
       "    </tr>\n",
       "    <tr>\n",
       "      <th>4</th>\n",
       "      <td>drill</td>\n",
       "      <td>538</td>\n",
       "    </tr>\n",
       "  </tbody>\n",
       "</table>\n",
       "</div>"
      ],
      "text/plain": [
       "     word  count\n",
       "0      de   1547\n",
       "1    tool    806\n",
       "2       x    701\n",
       "3  insert    623\n",
       "4   drill    538"
      ]
     },
     "execution_count": 25,
     "metadata": {},
     "output_type": "execute_result"
    }
   ],
   "source": [
    "# Creating a dataframe of sorted english words in short description\n",
    "df_english_short = pd.DataFrame.from_dict(dict(sorted_englishdic_short),orient='index') \n",
    "df_english_short.reset_index(inplace=True)\n",
    "df_english_short.columns=['word','count']\n",
    "df_english_short.head()"
   ]
  },
  {
   "cell_type": "code",
   "execution_count": null,
   "metadata": {
    "id": "2L33HWeLSmlC"
   },
   "outputs": [],
   "source": []
  },
  {
   "cell_type": "code",
   "execution_count": 26,
   "metadata": {
    "colab": {
     "base_uri": "https://localhost:8080/",
     "height": 204
    },
    "id": "ji9_QMgUSqu0",
    "outputId": "df62c24a-4bc6-42ad-e004-624e751688e7"
   },
   "outputs": [
    {
     "data": {
      "text/html": [
       "<div>\n",
       "<style scoped>\n",
       "    .dataframe tbody tr th:only-of-type {\n",
       "        vertical-align: middle;\n",
       "    }\n",
       "\n",
       "    .dataframe tbody tr th {\n",
       "        vertical-align: top;\n",
       "    }\n",
       "\n",
       "    .dataframe thead th {\n",
       "        text-align: right;\n",
       "    }\n",
       "</style>\n",
       "<table border=\"1\" class=\"dataframe\">\n",
       "  <thead>\n",
       "    <tr style=\"text-align: right;\">\n",
       "      <th></th>\n",
       "      <th>word</th>\n",
       "      <th>count</th>\n",
       "    </tr>\n",
       "  </thead>\n",
       "  <tbody>\n",
       "    <tr>\n",
       "      <th>0</th>\n",
       "      <td>015</td>\n",
       "      <td>2853</td>\n",
       "    </tr>\n",
       "    <tr>\n",
       "      <th>1</th>\n",
       "      <td>1</td>\n",
       "      <td>1511</td>\n",
       "    </tr>\n",
       "    <tr>\n",
       "      <th>2</th>\n",
       "      <td>2</td>\n",
       "      <td>912</td>\n",
       "    </tr>\n",
       "    <tr>\n",
       "      <th>3</th>\n",
       "      <td>5</td>\n",
       "      <td>730</td>\n",
       "    </tr>\n",
       "    <tr>\n",
       "      <th>4</th>\n",
       "      <td>4</td>\n",
       "      <td>576</td>\n",
       "    </tr>\n",
       "  </tbody>\n",
       "</table>\n",
       "</div>"
      ],
      "text/plain": [
       "  word  count\n",
       "0  015   2853\n",
       "1    1   1511\n",
       "2    2    912\n",
       "3    5    730\n",
       "4    4    576"
      ]
     },
     "execution_count": 26,
     "metadata": {},
     "output_type": "execute_result"
    }
   ],
   "source": [
    "# Creating a dataframe of sorted non - english words in short description\n",
    "df_nonenglish_short = pd.DataFrame.from_dict(dict(sorted_nonenglishdic_short), orient='index') #Making the dataframe of non english words\n",
    "df_nonenglish_short.reset_index(inplace=True)\n",
    "df_nonenglish_short.columns=['word','count']\n",
    "df_nonenglish_short.head()"
   ]
  },
  {
   "cell_type": "code",
   "execution_count": 27,
   "metadata": {
    "id": "cQSsS5-RSvKj"
   },
   "outputs": [],
   "source": [
    "# Saving dataframes into csv files\n",
    "df_english_short.to_csv('english_words.csv')\n",
    "df_nonenglish_short.to_csv('Nonenglish_words.csv')"
   ]
  },
  {
   "cell_type": "code",
   "execution_count": null,
   "metadata": {
    "id": "V9oMv-tJS2X3"
   },
   "outputs": [],
   "source": [
    "# as i have no idea about domain of this data so i am continuing with english words with characters >2\n",
    "#otherwise i would have filtered  words from non_english_words"
   ]
  },
  {
   "cell_type": "code",
   "execution_count": 28,
   "metadata": {
    "id": "R7RYvMoCT3cM"
   },
   "outputs": [],
   "source": [
    "df_refined_english_words=df_english_short[df_english_short['word'].str.len()>2]"
   ]
  },
  {
   "cell_type": "code",
   "execution_count": 29,
   "metadata": {
    "id": "0xc4bIgxUtw2"
   },
   "outputs": [],
   "source": [
    "total_words=df_refined_english_words['word'].values"
   ]
  },
  {
   "cell_type": "code",
   "execution_count": 30,
   "metadata": {
    "colab": {
     "base_uri": "https://localhost:8080/"
    },
    "id": "tn8UwZ4OgoV1",
    "outputId": "360c86c3-0d66-4a13-b07b-b09c4861062c"
   },
   "outputs": [
    {
     "data": {
      "text/plain": [
       "array(['tool', 'insert', 'drill', ..., 'accept', 'absorption', 'able'],\n",
       "      dtype=object)"
      ]
     },
     "execution_count": 30,
     "metadata": {},
     "output_type": "execute_result"
    }
   ],
   "source": [
    "total_words"
   ]
  },
  {
   "cell_type": "code",
   "execution_count": 31,
   "metadata": {
    "id": "AtCeuPslU0PK"
   },
   "outputs": [],
   "source": [
    "import gensim\n",
    "from gensim.models import CoherenceModel"
   ]
  },
  {
   "cell_type": "code",
   "execution_count": 32,
   "metadata": {
    "id": "dsyYQMl2VYmq"
   },
   "outputs": [],
   "source": [
    "final_desc = []                     #Filtering out and keeping only words which appear in total words\n",
    "for i in df.index:\n",
    "    filter_desc=[]\n",
    "    des=df['refined_text'][i].split()\n",
    "    for j in des:\n",
    "        if j in total_words:\n",
    "            filter_desc.append(j)\n",
    "    final_desc.append(filter_desc)"
   ]
  },
  {
   "cell_type": "code",
   "execution_count": 33,
   "metadata": {
    "id": "2hm6C3caWUkW"
   },
   "outputs": [],
   "source": [
    "final_desc=list(filter(None,final_desc))"
   ]
  },
  {
   "cell_type": "code",
   "execution_count": 34,
   "metadata": {
    "id": "kPhgRbFhWgkv"
   },
   "outputs": [],
   "source": [
    "dictionary_desc=gensim.corpora.Dictionary(final_desc) #Making a dictionary of all the words"
   ]
  },
  {
   "cell_type": "code",
   "execution_count": 35,
   "metadata": {
    "id": "aGIJLGAFWuy7"
   },
   "outputs": [],
   "source": [
    "bow_corpus_desc=[dictionary_desc.doc2bow(i) for i in final_desc] #Bag of words corpus"
   ]
  },
  {
   "cell_type": "code",
   "execution_count": 36,
   "metadata": {
    "id": "FJCpbrGUWxLc"
   },
   "outputs": [],
   "source": [
    "def compute_coherence_values(dictionary,corpus,texts,limit,start,step):\n",
    "    coherence_values = []\n",
    "    model_list = []\n",
    "    for num_topics in range(start,limit,step):\n",
    "        lda_model_desc=gensim.models.ldamulticore.LdaMulticore(corpus,num_topics=num_topics,id2word=dictionary,passes=15,workers=2,random_state=0)\n",
    "        model_list.append(lda_model_desc)\n",
    "        coherence_model_lda_sdesc=CoherenceModel(model=lda_model_desc,texts=texts,dictionary=dictionary,coherence='c_v')\n",
    "        coherence_lda_desc=coherence_model_lda_sdesc.get_coherence()\n",
    "        print(f'\\n Coherence Score for topics={num_topics} is:', coherence_lda_desc)\n",
    "        coherence_values.append(coherence_lda_desc)\n",
    "\n",
    "    return model_list, coherence_values"
   ]
  },
  {
   "cell_type": "code",
   "execution_count": 37,
   "metadata": {
    "colab": {
     "base_uri": "https://localhost:8080/"
    },
    "id": "OeUZBeuZW1IB",
    "outputId": "b5447673-27d7-4e30-ee14-c5bf48c41e1e"
   },
   "outputs": [
    {
     "name": "stdout",
     "output_type": "stream",
     "text": [
      "\n",
      " Coherence Score for topics=1 is: 0.6342503189878073\n",
      "\n",
      " Coherence Score for topics=4 is: 0.4770663971777811\n",
      "\n",
      " Coherence Score for topics=7 is: 0.5436305400052807\n",
      "\n",
      " Coherence Score for topics=10 is: 0.54218376531075\n",
      "\n",
      " Coherence Score for topics=13 is: 0.5032567898952921\n",
      "\n",
      " Coherence Score for topics=16 is: 0.5263692771939619\n"
     ]
    }
   ],
   "source": [
    "model_list_1, coherence_values_desc = compute_coherence_values(dictionary_desc,bow_corpus_desc,final_desc,start=1,limit=17,step=3)"
   ]
  },
  {
   "cell_type": "code",
   "execution_count": 38,
   "metadata": {
    "colab": {
     "base_uri": "https://localhost:8080/",
     "height": 281
    },
    "id": "Zdk3pLCHW4H0",
    "outputId": "cd1df7ca-7943-45b1-ffbc-f7e89d8f8800"
   },
   "outputs": [
    {
     "data": {
      "image/png": "[encoded data removed]",
      "text/plain": [
       "<Figure size 432x288 with 1 Axes>"
      ]
     },
     "metadata": {
      "needs_background": "light"
     },
     "output_type": "display_data"
    }
   ],
   "source": [
    "import matplotlib.pyplot as plt\n",
    "limit = 17\n",
    "start = 1\n",
    "step = 3\n",
    "x = range(start,limit,step)\n",
    "plt.plot(x, coherence_values_desc)\n",
    "plt.xlabel(\"Num Topics\")\n",
    "plt.ylabel(\"Coherence score\")\n",
    "plt.legend((\"coherence_values\"), loc=\"best\")\n",
    "plt.show()"
   ]
  },
  {
   "cell_type": "code",
   "execution_count": 39,
   "metadata": {
    "colab": {
     "base_uri": "https://localhost:8080/"
    },
    "id": "cuh4p8bRlZuv",
    "outputId": "ec86e8a9-d9f6-42f4-8ca9-a845022a0f9c"
   },
   "outputs": [
    {
     "data": {
      "text/plain": [
       "<gensim.models.ldamulticore.LdaMulticore at 0x7fabc4ba7fd0>"
      ]
     },
     "execution_count": 39,
     "metadata": {},
     "output_type": "execute_result"
    }
   ],
   "source": [
    "model_list_1[2]"
   ]
  },
  {
   "cell_type": "code",
   "execution_count": 40,
   "metadata": {
    "colab": {
     "base_uri": "https://localhost:8080/"
    },
    "id": "xvfmKf_ZX0l3",
    "outputId": "ae3ac668-7ca2-4a2f-9e5f-ff3cf39cb8bf"
   },
   "outputs": [
    {
     "name": "stdout",
     "output_type": "stream",
     "text": [
      "\n",
      " Coherence Score for topics=7 is: 0.5436305400052807\n"
     ]
    }
   ],
   "source": [
    "lda_model_desc =model_list_1[2]\n",
    "coherence_model_lda_desc=CoherenceModel(model=lda_model_desc,texts=final_desc,dictionary=dictionary_desc,coherence='c_v')\n",
    "coherence_lda_desc=coherence_model_lda_desc.get_coherence()\n",
    "print(f'\\n Coherence Score for topics={7} is:', coherence_lda_desc)"
   ]
  },
  {
   "cell_type": "code",
   "execution_count": 41,
   "metadata": {
    "colab": {
     "base_uri": "https://localhost:8080/"
    },
    "id": "Wyy8B2F5YTbN",
    "outputId": "075befbe-3680-47f1-fcec-bbdd30500609"
   },
   "outputs": [
    {
     "name": "stdout",
     "output_type": "stream",
     "text": [
      "Topic : 1\n",
      "Words : 0.102*\"drill\" + 0.080*\"para\" + 0.032*\"tool\" + 0.029*\"body\" + 0.027*\"aam\" + 0.025*\"shank\" + 0.023*\"oil\" + 0.021*\"con\" + 0.021*\"gallon\" + 0.018*\"rack\"\n",
      "Topic : 2\n",
      "Words : 0.048*\"tool\" + 0.029*\"planta\" + 0.027*\"type\" + 0.026*\"ref\" + 0.020*\"air\" + 0.016*\"freight\" + 0.016*\"rebuild\" + 0.016*\"build\" + 0.015*\"cable\" + 0.015*\"assembly\"\n",
      "Topic : 3\n",
      "Words : 0.048*\"cut\" + 0.046*\"mill\" + 0.037*\"end\" + 0.031*\"screw\" + 0.029*\"clamp\" + 0.023*\"unit\" + 0.021*\"tool\" + 0.019*\"diamond\" + 0.018*\"sleeve\" + 0.015*\"area\"\n",
      "Topic : 4\n",
      "Words : 0.046*\"drive\" + 0.034*\"type\" + 0.031*\"shaft\" + 0.025*\"gear\" + 0.021*\"size\" + 0.016*\"driver\" + 0.016*\"fee\" + 0.014*\"chemical\" + 0.014*\"adapter\" + 0.014*\"set\"\n",
      "Topic : 5\n",
      "Words : 0.038*\"drum\" + 0.028*\"turn\" + 0.025*\"case\" + 0.025*\"gal\" + 0.021*\"block\" + 0.017*\"coolant\" + 0.016*\"grind\" + 0.016*\"back\" + 0.013*\"axle\" + 0.012*\"line\"\n",
      "Topic : 6\n",
      "Words : 0.043*\"print\" + 0.042*\"serial\" + 0.039*\"new\" + 0.034*\"engrave\" + 0.034*\"make\" + 0.026*\"insert\" + 0.022*\"material\" + 0.022*\"charge\" + 0.020*\"bottom\" + 0.020*\"punch\"\n",
      "Topic : 7\n",
      "Words : 0.089*\"insert\" + 0.073*\"repair\" + 0.047*\"bar\" + 0.044*\"tool\" + 0.037*\"charge\" + 0.025*\"boring\" + 0.023*\"carbide\" + 0.019*\"best\" + 0.017*\"bore\" + 0.015*\"bajada\"\n"
     ]
    }
   ],
   "source": [
    "for idx,topic in lda_model_desc.print_topics(-1):\n",
    "    print(f\"Topic : {idx+1}\")\n",
    "    print(f\"Words : {topic}\")"
   ]
  },
  {
   "cell_type": "code",
   "execution_count": null,
   "metadata": {
    "id": "tq6WBUjHi---"
   },
   "outputs": [],
   "source": []
  },
  {
   "cell_type": "markdown",
   "metadata": {
    "id": "-0TyLw32qJOj"
   },
   "source": [
    "#using bigrams"
   ]
  },
  {
   "cell_type": "code",
   "execution_count": 55,
   "metadata": {
    "id": "SlWY-ZMM1wZv"
   },
   "outputs": [],
   "source": [
    "#lda on description without threshold\n",
    "bigram_desc = gensim.models.Phrases(final_desc, min_count=5) # higher threshold fewer phrases.\n",
    "\n",
    "# Faster way to get a sentence clubbed as a trigram/bigram\n",
    "bigram_mod_desc = gensim.models.phrases.Phraser(bigram_desc)\n",
    "\n",
    "def make_bigrams(texts):\n",
    "    return [bigram_mod_desc[doc] for doc in texts]"
   ]
  },
  {
   "cell_type": "code",
   "execution_count": 56,
   "metadata": {
    "id": "VNqIJsba11w4"
   },
   "outputs": [],
   "source": [
    "final_bigram_desc = make_bigrams(final_desc)\n",
    "dictionary_desc_bigram=gensim.corpora.Dictionary(final_bigram_desc) #Making a dictionary of all the words"
   ]
  },
  {
   "cell_type": "code",
   "execution_count": 57,
   "metadata": {
    "id": "9gKeJ0di16RI"
   },
   "outputs": [],
   "source": [
    "bow_corpus_desc_bigram=[dictionary_desc_bigram.doc2bow(i) for i in final_bigram_desc] #Bag of words corpus"
   ]
  },
  {
   "cell_type": "code",
   "execution_count": 58,
   "metadata": {
    "colab": {
     "base_uri": "https://localhost:8080/"
    },
    "id": "RGKBm-DX2AwD",
    "outputId": "e6165d88-0a6a-43d9-b430-d38c9a73ad76"
   },
   "outputs": [
    {
     "name": "stdout",
     "output_type": "stream",
     "text": [
      "\n",
      " Coherence Score for topics=1 is: 0.6981300223872863\n",
      "\n",
      " Coherence Score for topics=4 is: 0.603268240062818\n",
      "\n",
      " Coherence Score for topics=7 is: 0.5851560022310812\n",
      "\n",
      " Coherence Score for topics=10 is: 0.5755807249296542\n",
      "\n",
      " Coherence Score for topics=13 is: 0.5880248063592673\n",
      "\n",
      " Coherence Score for topics=16 is: 0.5851618534015093\n"
     ]
    }
   ],
   "source": [
    "model_list_2, coherence_values_desc_bigram = compute_coherence_values(dictionary_desc_bigram,bow_corpus_desc_bigram,final_bigram_desc,start=1,limit=17,step=3)\n"
   ]
  },
  {
   "cell_type": "code",
   "execution_count": 59,
   "metadata": {
    "colab": {
     "base_uri": "https://localhost:8080/",
     "height": 279
    },
    "id": "pA6cKcK02GCW",
    "outputId": "b5a881de-9544-4717-be7a-d059ea36c82d"
   },
   "outputs": [
    {
     "data": {
      "image/png": "[encoded data removed]",
      "text/plain": [
       "<Figure size 432x288 with 1 Axes>"
      ]
     },
     "metadata": {
      "needs_background": "light"
     },
     "output_type": "display_data"
    }
   ],
   "source": [
    "limit = 17\n",
    "start = 1\n",
    "step = 3\n",
    "x = range(start,limit,step)\n",
    "plt.plot(x, coherence_values_desc_bigram)\n",
    "plt.xlabel(\"Num Topics\")\n",
    "plt.ylabel(\"Coherence score\")\n",
    "plt.legend((\"coherence_values\"), loc=\"best\")\n",
    "plt.show()"
   ]
  },
  {
   "cell_type": "code",
   "execution_count": 60,
   "metadata": {
    "colab": {
     "base_uri": "https://localhost:8080/"
    },
    "id": "KVGVeSuO2KkI",
    "outputId": "4219a82a-3b55-4c58-a319-466bd5bb9b72"
   },
   "outputs": [
    {
     "name": "stdout",
     "output_type": "stream",
     "text": [
      "\n",
      " Coherence Score for topics=4 is: 0.603268240062818\n"
     ]
    }
   ],
   "source": [
    "#number of topics 4\n",
    "\n",
    "lda_model_desc_bigram=model_list_2[1]\n",
    "coherence_model_lda_desc_bigram=CoherenceModel(model=lda_model_desc_bigram,texts=final_bigram_desc,dictionary=dictionary_desc_bigram,coherence='c_v')\n",
    "coherence_lda_desc_bigram=coherence_model_lda_desc_bigram.get_coherence()\n",
    "print(f'\\n Coherence Score for topics={4} is:', coherence_lda_desc_bigram)"
   ]
  },
  {
   "cell_type": "code",
   "execution_count": 61,
   "metadata": {
    "colab": {
     "base_uri": "https://localhost:8080/"
    },
    "id": "Wgt7q5BW2PYg",
    "outputId": "958e2580-07eb-4277-e151-2e8b0fb9dc5b"
   },
   "outputs": [
    {
     "name": "stdout",
     "output_type": "stream",
     "text": [
      "Topic : 1\n",
      "Words : 0.035*\"type\" + 0.034*\"para\" + 0.024*\"block\" + 0.019*\"end_mill\" + 0.018*\"ref\" + 0.017*\"cable\" + 0.016*\"carbide\" + 0.015*\"build\" + 0.011*\"con\" + 0.009*\"ball\"\n",
      "Topic : 2\n",
      "Words : 0.024*\"clamp\" + 0.023*\"drum\" + 0.020*\"cut\" + 0.012*\"set\" + 0.012*\"type\" + 0.011*\"mill\" + 0.010*\"chemical\" + 0.009*\"diamond_sleeve\" + 0.008*\"gal\" + 0.007*\"banda\"\n",
      "Topic : 3\n",
      "Words : 0.079*\"insert\" + 0.041*\"drill\" + 0.022*\"screw\" + 0.018*\"make_new\" + 0.018*\"serial\" + 0.015*\"material\" + 0.015*\"print_engrave\" + 0.014*\"charge\" + 0.013*\"print\" + 0.010*\"part\"\n",
      "Topic : 4\n",
      "Words : 0.084*\"tool\" + 0.051*\"repair\" + 0.021*\"drill\" + 0.014*\"boring_bar\" + 0.014*\"best_tool\" + 0.012*\"head\" + 0.012*\"body_shank\" + 0.012*\"cut_unit\" + 0.011*\"rebuild\" + 0.009*\"coolant\"\n"
     ]
    }
   ],
   "source": [
    "for idx,topic in lda_model_desc_bigram.print_topics(-1):\n",
    "    print(f\"Topic : {idx+1}\")\n",
    "    print(f\"Words : {topic}\")"
   ]
  },
  {
   "cell_type": "code",
   "execution_count": 62,
   "metadata": {
    "colab": {
     "base_uri": "https://localhost:8080/"
    },
    "id": "55seJKUl2RuB",
    "outputId": "b5f8091e-6a6f-4549-812e-9396492a6860"
   },
   "outputs": [
    {
     "name": "stdout",
     "output_type": "stream",
     "text": [
      "\n",
      " Coherence Score for topics=7 is: 0.5851560022310812\n"
     ]
    }
   ],
   "source": [
    "#number of topics  7\n",
    "lda_model_desc_bigram2=model_list_2[2]\n",
    "coherence_model_lda_desc_bigram2=CoherenceModel(model=lda_model_desc_bigram2,texts=final_bigram_desc,dictionary=dictionary_desc_bigram,coherence='c_v')\n",
    "coherence_lda_desc_bigram2=coherence_model_lda_desc_bigram2.get_coherence()\n",
    "print(f'\\n Coherence Score for topics={7} is:', coherence_lda_desc_bigram2)"
   ]
  },
  {
   "cell_type": "code",
   "execution_count": 42,
   "metadata": {
    "id": "ebXdwMGyqXDD"
   },
   "outputs": [],
   "source": [
    "#with threshold\n",
    "bigram_desc_thres = gensim.models.Phrases(final_desc, min_count=5,threshold=20) # higher threshold fewer phrases.\n",
    "\n",
    "# Faster way to get a sentence clubbed as a trigram/bigram\n",
    "bigram_mod_desc_thres = gensim.models.phrases.Phraser(bigram_desc_thres)\n",
    "\n",
    "def make_bigrams_with_threshold(texts):\n",
    "    return [bigram_mod_desc_thres[doc] for doc in texts]"
   ]
  },
  {
   "cell_type": "code",
   "execution_count": 43,
   "metadata": {
    "id": "uKgyVQQNqxq7"
   },
   "outputs": [],
   "source": [
    "final_bigram_desc_thres = make_bigrams_with_threshold(final_desc)"
   ]
  },
  {
   "cell_type": "code",
   "execution_count": 44,
   "metadata": {
    "id": "D3hzpLWrq4X4"
   },
   "outputs": [],
   "source": [
    "dictionary_desc_bigram_thres = gensim.corpora.Dictionary(final_bigram_desc_thres) #Making a dictionary of all the words"
   ]
  },
  {
   "cell_type": "code",
   "execution_count": 45,
   "metadata": {
    "id": "q7NLiH-gt2p6"
   },
   "outputs": [],
   "source": [
    "bow_corpus_desc_bigram_thres = [dictionary_desc_bigram_thres.doc2bow(i) for i in final_bigram_desc_thres] #Bag of words corpus"
   ]
  },
  {
   "cell_type": "code",
   "execution_count": 46,
   "metadata": {
    "colab": {
     "base_uri": "https://localhost:8080/"
    },
    "id": "vxnue8n8t5ik",
    "outputId": "bdb56d31-6e49-4f1b-d0da-687b22419da4"
   },
   "outputs": [
    {
     "name": "stdout",
     "output_type": "stream",
     "text": [
      "\n",
      " Coherence Score for topics=1 is: 0.6489402322995892\n",
      "\n",
      " Coherence Score for topics=4 is: 0.5674087541643171\n",
      "\n",
      " Coherence Score for topics=7 is: 0.5878325709187642\n",
      "\n",
      " Coherence Score for topics=10 is: 0.5546798147520879\n",
      "\n",
      " Coherence Score for topics=13 is: 0.5610713120563376\n",
      "\n",
      " Coherence Score for topics=16 is: 0.5518936572371336\n"
     ]
    }
   ],
   "source": [
    "model_list_3, coherence_values_desc_bigram_thres = compute_coherence_values(dictionary_desc_bigram_thres,bow_corpus_desc_bigram_thres,final_bigram_desc_thres,start=1,limit=17,step=3)"
   ]
  },
  {
   "cell_type": "code",
   "execution_count": 47,
   "metadata": {
    "colab": {
     "base_uri": "https://localhost:8080/",
     "height": 279
    },
    "id": "b0c9EV7St715",
    "outputId": "cc1ff1fe-7606-4c39-87fe-bdc2cb633d5a"
   },
   "outputs": [
    {
     "data": {
      "image/png": "[encoded data removed]",
      "text/plain": [
       "<Figure size 432x288 with 1 Axes>"
      ]
     },
     "metadata": {
      "needs_background": "light"
     },
     "output_type": "display_data"
    }
   ],
   "source": [
    "limit = 17\n",
    "start = 1\n",
    "step = 3\n",
    "x = range(start,limit,step)\n",
    "plt.plot(x, coherence_values_desc_bigram_thres)\n",
    "plt.xlabel(\"Num Topics\")\n",
    "plt.ylabel(\"Coherence score\")\n",
    "plt.legend((\"coherence_values\"), loc=\"best\")\n",
    "plt.show()"
   ]
  },
  {
   "cell_type": "code",
   "execution_count": 48,
   "metadata": {
    "colab": {
     "base_uri": "https://localhost:8080/"
    },
    "id": "-AaRQkA2uoBw",
    "outputId": "dac6931a-ff4d-476b-a4a2-d4413021893b"
   },
   "outputs": [
    {
     "name": "stdout",
     "output_type": "stream",
     "text": [
      "\n",
      " Coherence Score for topics=7 is: 0.5878325709187642\n"
     ]
    }
   ],
   "source": [
    "#number of topics -7\n",
    "\n",
    "lda_model_desc_bigram_thres=model_list_3[2]\n",
    "coherence_model_lda_desc_bigram_thres=CoherenceModel(model=lda_model_desc_bigram_thres,texts=final_bigram_desc_thres,dictionary=dictionary_desc_bigram_thres,coherence='c_v')\n",
    "coherence_lda_desc_bigram_thres=coherence_model_lda_desc_bigram_thres.get_coherence()\n",
    "print(f'\\n Coherence Score for topics={7} is:', coherence_lda_desc_bigram_thres)"
   ]
  },
  {
   "cell_type": "code",
   "execution_count": 49,
   "metadata": {
    "colab": {
     "base_uri": "https://localhost:8080/"
    },
    "id": "pLge8pGLuvq3",
    "outputId": "c00e953f-413c-4930-c02d-80d27232b10a"
   },
   "outputs": [
    {
     "name": "stdout",
     "output_type": "stream",
     "text": [
      "Topic : 1\n",
      "Words : 0.093*\"para\" + 0.025*\"base\" + 0.025*\"make_new\" + 0.021*\"print_engrave\" + 0.021*\"pin\" + 0.016*\"carrier\" + 0.016*\"serial\" + 0.013*\"key\" + 0.013*\"collet\" + 0.012*\"master\"\n",
      "Topic : 2\n",
      "Words : 0.045*\"type\" + 0.037*\"tool\" + 0.032*\"best\" + 0.028*\"clamp\" + 0.023*\"chemical\" + 0.023*\"rebuild\" + 0.021*\"bar\" + 0.020*\"mill\" + 0.014*\"head\" + 0.013*\"unit\"\n",
      "Topic : 3\n",
      "Words : 0.102*\"insert\" + 0.041*\"charge\" + 0.022*\"planta\" + 0.021*\"material\" + 0.018*\"case\" + 0.017*\"print\" + 0.015*\"serial\" + 0.015*\"drive\" + 0.015*\"gear\" + 0.015*\"turn\"\n",
      "Topic : 4\n",
      "Words : 0.105*\"drill\" + 0.026*\"block\" + 0.025*\"ref\" + 0.020*\"oil\" + 0.019*\"build\" + 0.018*\"fee\" + 0.015*\"use\" + 0.012*\"part\" + 0.012*\"gallon\" + 0.011*\"case\"\n",
      "Topic : 5\n",
      "Words : 0.037*\"drum\" + 0.032*\"end_mill\" + 0.032*\"carbide\" + 0.029*\"con\" + 0.021*\"gal\" + 0.019*\"diamond_grit\" + 0.017*\"boring_bar\" + 0.017*\"tool\" + 0.014*\"flute\" + 0.014*\"shank\"\n",
      "Topic : 6\n",
      "Words : 0.123*\"tool\" + 0.077*\"repair\" + 0.039*\"aam\" + 0.038*\"screw\" + 0.019*\"cut_unit\" + 0.017*\"driver\" + 0.015*\"tap\" + 0.015*\"holder\" + 0.013*\"kit\" + 0.013*\"diamond\"\n",
      "Topic : 7\n",
      "Words : 0.033*\"cut\" + 0.028*\"drive_shaft\" + 0.017*\"design\" + 0.016*\"set\" + 0.015*\"shim\" + 0.011*\"per\" + 0.011*\"diamond_sleeve\" + 0.010*\"line\" + 0.010*\"plate\" + 0.010*\"project\"\n"
     ]
    }
   ],
   "source": [
    "for idx,topic in lda_model_desc_bigram_thres.print_topics(-1):\n",
    "    print(f\"Topic : {idx+1}\")\n",
    "    print(f\"Words : {topic}\")"
   ]
  },
  {
   "cell_type": "code",
   "execution_count": 50,
   "metadata": {
    "colab": {
     "base_uri": "https://localhost:8080/"
    },
    "id": "dDr_JGBeuypy",
    "outputId": "557cb309-7c09-48ae-f906-111d827e4d99"
   },
   "outputs": [
    {
     "name": "stdout",
     "output_type": "stream",
     "text": [
      "\n",
      " Coherence Score for topics=7 is: 0.5878325709187642\n"
     ]
    }
   ],
   "source": [
    "lda_model_desc_bigram_thres2=model_list_3[2]\n",
    "coherence_model_lda_desc_bigram_thres2=CoherenceModel(model=lda_model_desc_bigram_thres2,texts=final_bigram_desc_thres,dictionary=dictionary_desc_bigram_thres,coherence='c_v')\n",
    "coherence_lda_desc_bigram_thres2=coherence_model_lda_desc_bigram_thres2.get_coherence()\n",
    "print(f'\\n Coherence Score for topics={7} is:', coherence_lda_desc_bigram_thres2)"
   ]
  },
  {
   "cell_type": "code",
   "execution_count": 51,
   "metadata": {
    "colab": {
     "base_uri": "https://localhost:8080/"
    },
    "id": "HGdXxFH0u5rt",
    "outputId": "d7d308f1-b09c-4373-8df2-6f55b6f5a56f"
   },
   "outputs": [
    {
     "name": "stdout",
     "output_type": "stream",
     "text": [
      "Topic : 1\n",
      "Words : 0.093*\"para\" + 0.025*\"base\" + 0.025*\"make_new\" + 0.021*\"print_engrave\" + 0.021*\"pin\" + 0.016*\"carrier\" + 0.016*\"serial\" + 0.013*\"key\" + 0.013*\"collet\" + 0.012*\"master\"\n",
      "Topic : 2\n",
      "Words : 0.045*\"type\" + 0.037*\"tool\" + 0.032*\"best\" + 0.028*\"clamp\" + 0.023*\"chemical\" + 0.023*\"rebuild\" + 0.021*\"bar\" + 0.020*\"mill\" + 0.014*\"head\" + 0.013*\"unit\"\n",
      "Topic : 3\n",
      "Words : 0.102*\"insert\" + 0.041*\"charge\" + 0.022*\"planta\" + 0.021*\"material\" + 0.018*\"case\" + 0.017*\"print\" + 0.015*\"serial\" + 0.015*\"drive\" + 0.015*\"gear\" + 0.015*\"turn\"\n",
      "Topic : 4\n",
      "Words : 0.105*\"drill\" + 0.026*\"block\" + 0.025*\"ref\" + 0.020*\"oil\" + 0.019*\"build\" + 0.018*\"fee\" + 0.015*\"use\" + 0.012*\"part\" + 0.012*\"gallon\" + 0.011*\"case\"\n",
      "Topic : 5\n",
      "Words : 0.037*\"drum\" + 0.032*\"end_mill\" + 0.032*\"carbide\" + 0.029*\"con\" + 0.021*\"gal\" + 0.019*\"diamond_grit\" + 0.017*\"boring_bar\" + 0.017*\"tool\" + 0.014*\"flute\" + 0.014*\"shank\"\n",
      "Topic : 6\n",
      "Words : 0.123*\"tool\" + 0.077*\"repair\" + 0.039*\"aam\" + 0.038*\"screw\" + 0.019*\"cut_unit\" + 0.017*\"driver\" + 0.015*\"tap\" + 0.015*\"holder\" + 0.013*\"kit\" + 0.013*\"diamond\"\n",
      "Topic : 7\n",
      "Words : 0.033*\"cut\" + 0.028*\"drive_shaft\" + 0.017*\"design\" + 0.016*\"set\" + 0.015*\"shim\" + 0.011*\"per\" + 0.011*\"diamond_sleeve\" + 0.010*\"line\" + 0.010*\"plate\" + 0.010*\"project\"\n"
     ]
    }
   ],
   "source": [
    "for idx,topic in lda_model_desc_bigram_thres2.print_topics(-1):\n",
    "    print(f\"Topic : {idx+1}\")\n",
    "    print(f\"Words : {topic}\")"
   ]
  },
  {
   "cell_type": "code",
   "execution_count": 52,
   "metadata": {
    "id": "h_uPY9rfvAhl"
   },
   "outputs": [],
   "source": [
    "# FINDING DOMINANT TOPIC\n",
    "# CONSIDERING LDA MODEL FOR BIGRAMS WITHOUT THRESHOLD\n",
    "def format_topic_sentences(ldamodel, corpus):\n",
    "    sent_topics_df = pd.DataFrame()\n",
    "\n",
    "    for i, row in enumerate(ldamodel[corpus]):\n",
    "        row = sorted(row, key=lambda x: (x[1]), reverse=True)\n",
    "        for j, (topic_num, prop_topic) in enumerate(row):\n",
    "            if j == 0:                    # DOMINANT TOPIC\n",
    "                word_prop = ldamodel.show_topic(topic_num)\n",
    "                topic_keywords = \", \".join([word for word, prop in word_prop])\n",
    "                sent_topics_df = sent_topics_df.append(pd.Series([int(topic_num), round(prop_topic,4), topic_keywords]), ignore_index = True)\n",
    "            else:\n",
    "                break\n",
    "    sent_topics_df.columns = ['Dominant Topic', 'Percent Contribution', 'Topic Keywords']\n",
    "    return sent_topics_df"
   ]
  },
  {
   "cell_type": "code",
   "execution_count": 53,
   "metadata": {
    "id": "M3N2Ld1nvFet"
   },
   "outputs": [],
   "source": [
    "df_topics_desc = format_topic_sentences(ldamodel=lda_model_desc_bigram_thres, corpus=bow_corpus_desc_bigram_thres)"
   ]
  },
  {
   "cell_type": "code",
   "execution_count": 63,
   "metadata": {
    "colab": {
     "base_uri": "https://localhost:8080/",
     "height": 204
    },
    "id": "snE84uTQvJDr",
    "outputId": "725b15c5-7e63-4a21-84e7-befd66b6c8e3"
   },
   "outputs": [
    {
     "data": {
      "text/html": [
       "<div>\n",
       "<style scoped>\n",
       "    .dataframe tbody tr th:only-of-type {\n",
       "        vertical-align: middle;\n",
       "    }\n",
       "\n",
       "    .dataframe tbody tr th {\n",
       "        vertical-align: top;\n",
       "    }\n",
       "\n",
       "    .dataframe thead th {\n",
       "        text-align: right;\n",
       "    }\n",
       "</style>\n",
       "<table border=\"1\" class=\"dataframe\">\n",
       "  <thead>\n",
       "    <tr style=\"text-align: right;\">\n",
       "      <th></th>\n",
       "      <th>Dominant Topic</th>\n",
       "      <th>Percent Contribution</th>\n",
       "      <th>Topic Keywords</th>\n",
       "      <th>0</th>\n",
       "    </tr>\n",
       "  </thead>\n",
       "  <tbody>\n",
       "    <tr>\n",
       "      <th>0</th>\n",
       "      <td>1.0</td>\n",
       "      <td>0.5714</td>\n",
       "      <td>type, tool, best, clamp, chemical, rebuild, ba...</td>\n",
       "      <td>[transducer]</td>\n",
       "    </tr>\n",
       "    <tr>\n",
       "      <th>1</th>\n",
       "      <td>0.0</td>\n",
       "      <td>0.5714</td>\n",
       "      <td>para, base, make_new, print_engrave, pin, carr...</td>\n",
       "      <td>[pusher]</td>\n",
       "    </tr>\n",
       "    <tr>\n",
       "      <th>2</th>\n",
       "      <td>0.0</td>\n",
       "      <td>0.5792</td>\n",
       "      <td>para, base, make_new, print_engrave, pin, carr...</td>\n",
       "      <td>[press, head, cup, carrier, station, member_line]</td>\n",
       "    </tr>\n",
       "    <tr>\n",
       "      <th>3</th>\n",
       "      <td>2.0</td>\n",
       "      <td>0.5711</td>\n",
       "      <td>insert, charge, planta, material, case, print,...</td>\n",
       "      <td>[cable]</td>\n",
       "    </tr>\n",
       "    <tr>\n",
       "      <th>4</th>\n",
       "      <td>1.0</td>\n",
       "      <td>0.7855</td>\n",
       "      <td>type, tool, best, clamp, chemical, rebuild, ba...</td>\n",
       "      <td>[numero, fan, radial]</td>\n",
       "    </tr>\n",
       "  </tbody>\n",
       "</table>\n",
       "</div>"
      ],
      "text/plain": [
       "   Dominant Topic  ...                                                  0\n",
       "0             1.0  ...                                       [transducer]\n",
       "1             0.0  ...                                           [pusher]\n",
       "2             0.0  ...  [press, head, cup, carrier, station, member_line]\n",
       "3             2.0  ...                                            [cable]\n",
       "4             1.0  ...                              [numero, fan, radial]\n",
       "\n",
       "[5 rows x 4 columns]"
      ]
     },
     "execution_count": 63,
     "metadata": {},
     "output_type": "execute_result"
    }
   ],
   "source": [
    "desc_texts = pd.Series(final_bigram_desc)\n",
    "df_topics_desc = pd.concat([df_topics_desc, desc_texts], axis=1)\n",
    "df_topics_desc.head()"
   ]
  },
  {
   "cell_type": "code",
   "execution_count": 64,
   "metadata": {
    "colab": {
     "base_uri": "https://localhost:8080/",
     "height": 204
    },
    "id": "9PnlQGSYvQYU",
    "outputId": "50266206-afc5-42a5-d613-51cb6ac1bafc"
   },
   "outputs": [
    {
     "data": {
      "text/html": [
       "<div>\n",
       "<style scoped>\n",
       "    .dataframe tbody tr th:only-of-type {\n",
       "        vertical-align: middle;\n",
       "    }\n",
       "\n",
       "    .dataframe tbody tr th {\n",
       "        vertical-align: top;\n",
       "    }\n",
       "\n",
       "    .dataframe thead th {\n",
       "        text-align: right;\n",
       "    }\n",
       "</style>\n",
       "<table border=\"1\" class=\"dataframe\">\n",
       "  <thead>\n",
       "    <tr style=\"text-align: right;\">\n",
       "      <th></th>\n",
       "      <th>Dominant Topic</th>\n",
       "      <th>Percent Contribution</th>\n",
       "      <th>Topic Keywords</th>\n",
       "      <th>description</th>\n",
       "    </tr>\n",
       "  </thead>\n",
       "  <tbody>\n",
       "    <tr>\n",
       "      <th>0</th>\n",
       "      <td>1.0</td>\n",
       "      <td>0.5714</td>\n",
       "      <td>type, tool, best, clamp, chemical, rebuild, ba...</td>\n",
       "      <td>[transducer]</td>\n",
       "    </tr>\n",
       "    <tr>\n",
       "      <th>1</th>\n",
       "      <td>0.0</td>\n",
       "      <td>0.5714</td>\n",
       "      <td>para, base, make_new, print_engrave, pin, carr...</td>\n",
       "      <td>[pusher]</td>\n",
       "    </tr>\n",
       "    <tr>\n",
       "      <th>2</th>\n",
       "      <td>0.0</td>\n",
       "      <td>0.5792</td>\n",
       "      <td>para, base, make_new, print_engrave, pin, carr...</td>\n",
       "      <td>[press, head, cup, carrier, station, member_line]</td>\n",
       "    </tr>\n",
       "    <tr>\n",
       "      <th>3</th>\n",
       "      <td>2.0</td>\n",
       "      <td>0.5711</td>\n",
       "      <td>insert, charge, planta, material, case, print,...</td>\n",
       "      <td>[cable]</td>\n",
       "    </tr>\n",
       "    <tr>\n",
       "      <th>4</th>\n",
       "      <td>1.0</td>\n",
       "      <td>0.7855</td>\n",
       "      <td>type, tool, best, clamp, chemical, rebuild, ba...</td>\n",
       "      <td>[numero, fan, radial]</td>\n",
       "    </tr>\n",
       "  </tbody>\n",
       "</table>\n",
       "</div>"
      ],
      "text/plain": [
       "   Dominant Topic  ...                                        description\n",
       "0             1.0  ...                                       [transducer]\n",
       "1             0.0  ...                                           [pusher]\n",
       "2             0.0  ...  [press, head, cup, carrier, station, member_line]\n",
       "3             2.0  ...                                            [cable]\n",
       "4             1.0  ...                              [numero, fan, radial]\n",
       "\n",
       "[5 rows x 4 columns]"
      ]
     },
     "execution_count": 64,
     "metadata": {},
     "output_type": "execute_result"
    }
   ],
   "source": [
    "# these are the dominant topics that i got for each of topic classified\n",
    "df_topics_desc.columns = ['Dominant Topic', 'Percent Contribution', 'Topic Keywords', 'description']\n",
    "df_topics_desc.head()"
   ]
  },
  {
   "cell_type": "code",
   "execution_count": 65,
   "metadata": {
    "id": "_J-nh5L-3Chq"
   },
   "outputs": [],
   "source": [
    "df_topics_desc.to_csv('Combined_Dominant_topics_desc.csv')"
   ]
  },
  {
   "cell_type": "code",
   "execution_count": 66,
   "metadata": {
    "id": "fHg2IDs73Knu"
   },
   "outputs": [],
   "source": [
    "#acc to frequency\n",
    "topic_freq = dict()\n",
    "for i in df_topics_desc.index:\n",
    "    topic_num = df_topics_desc['Dominant Topic'][i]\n",
    "    if topic_num not in topic_freq:\n",
    "        topic_freq[topic_num] = 0\n",
    "    topic_freq[topic_num] += 1\n",
    "\n",
    "sorted_topic_freq = sorted(topic_freq.items())"
   ]
  },
  {
   "cell_type": "code",
   "execution_count": 67,
   "metadata": {
    "colab": {
     "base_uri": "https://localhost:8080/"
    },
    "id": "QBLlS02r3OtF",
    "outputId": "6e83c308-f982-4c81-8261-cc5c7f02065d"
   },
   "outputs": [
    {
     "data": {
      "text/plain": [
       "[(0.0, 947),\n",
       " (1.0, 1265),\n",
       " (2.0, 1274),\n",
       " (3.0, 1207),\n",
       " (4.0, 1241),\n",
       " (5.0, 1288),\n",
       " (6.0, 1085)]"
      ]
     },
     "execution_count": 67,
     "metadata": {},
     "output_type": "execute_result"
    }
   ],
   "source": [
    "sorted_topic_freq"
   ]
  },
  {
   "cell_type": "code",
   "execution_count": null,
   "metadata": {
    "id": "wksSJK5e3U4n"
   },
   "outputs": [],
   "source": [
    "# topic modelling is used to classify words to different topics that can be used to identify issues of  various categories \n",
    "# also to find hidden issues in the data that are not seen due to large volumne of data\n",
    "# even topic modelling is used in recommendation engines when we need unsupervised algorithms"
   ]
  }
 ],
 "metadata": {
  "colab": {
   "collapsed_sections": [],
   "name": "Topic_modeling.ipynb",
   "provenance": []
  },
  "kernelspec": {
   "display_name": "Python 3",
   "language": "python",
   "name": "python3"
  },
  "language_info": {
   "codemirror_mode": {
    "name": "ipython",
    "version": 3
   },
   "file_extension": ".py",
   "mimetype": "text/x-python",
   "name": "python",
   "nbconvert_exporter": "python",
   "pygments_lexer": "ipython3",
   "version": "3.9.7"
  }
 },
 "nbformat": 4,
 "nbformat_minor": 1
}
